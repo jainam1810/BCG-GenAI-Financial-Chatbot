{
 "cells": [
  {
   "cell_type": "code",
   "execution_count": 9,
   "id": "df33b02b-834a-4193-87d9-ad92bdb85e50",
   "metadata": {},
   "outputs": [],
   "source": [
    "import pandas as pd\n",
    "import matplotlib.pyplot as plt  #import libraries"
   ]
  },
  {
   "cell_type": "code",
   "execution_count": 10,
   "id": "9763787e-5145-4f0a-b112-19ba1e228c66",
   "metadata": {},
   "outputs": [
    {
     "name": "stdout",
     "output_type": "stream",
     "text": [
      "C:\\Users\\Jai Varia\n"
     ]
    }
   ],
   "source": [
    "import os\n",
    "print(os.getcwd()) #check kiya file"
   ]
  },
  {
   "cell_type": "code",
   "execution_count": 37,
   "id": "7d740e8f-bb0b-4e50-8b57-c2470a081bc9",
   "metadata": {},
   "outputs": [
    {
     "data": {
      "text/html": [
       "<div>\n",
       "<style scoped>\n",
       "    .dataframe tbody tr th:only-of-type {\n",
       "        vertical-align: middle;\n",
       "    }\n",
       "\n",
       "    .dataframe tbody tr th {\n",
       "        vertical-align: top;\n",
       "    }\n",
       "\n",
       "    .dataframe thead th {\n",
       "        text-align: right;\n",
       "    }\n",
       "</style>\n",
       "<table border=\"1\" class=\"dataframe\">\n",
       "  <thead>\n",
       "    <tr style=\"text-align: right;\">\n",
       "      <th></th>\n",
       "      <th>Company</th>\n",
       "      <th>Year</th>\n",
       "      <th>Total Revenue</th>\n",
       "      <th>Net Income</th>\n",
       "      <th>Total Assets</th>\n",
       "      <th>Total Liabilities</th>\n",
       "      <th>Cash flow from Operation</th>\n",
       "      <th>Unnamed: 7</th>\n",
       "    </tr>\n",
       "  </thead>\n",
       "  <tbody>\n",
       "    <tr>\n",
       "      <th>0</th>\n",
       "      <td>Microsoft</td>\n",
       "      <td>2024.0</td>\n",
       "      <td>245122</td>\n",
       "      <td>88136</td>\n",
       "      <td>512163.0</td>\n",
       "      <td>243686.0</td>\n",
       "      <td>118548.0</td>\n",
       "      <td>NaN</td>\n",
       "    </tr>\n",
       "    <tr>\n",
       "      <th>1</th>\n",
       "      <td>Microsoft</td>\n",
       "      <td>2023.0</td>\n",
       "      <td>211915</td>\n",
       "      <td>72361</td>\n",
       "      <td>411976.0</td>\n",
       "      <td>205753.0</td>\n",
       "      <td>87582.0</td>\n",
       "      <td>NaN</td>\n",
       "    </tr>\n",
       "    <tr>\n",
       "      <th>2</th>\n",
       "      <td>Microsoft</td>\n",
       "      <td>2022.0</td>\n",
       "      <td>198270</td>\n",
       "      <td>72738</td>\n",
       "      <td>364840.0</td>\n",
       "      <td>198298.0</td>\n",
       "      <td>89035.0</td>\n",
       "      <td>NaN</td>\n",
       "    </tr>\n",
       "    <tr>\n",
       "      <th>3</th>\n",
       "      <td>Apple</td>\n",
       "      <td>2024.0</td>\n",
       "      <td>391,035</td>\n",
       "      <td>93,736</td>\n",
       "      <td>364980.0</td>\n",
       "      <td>308030.0</td>\n",
       "      <td>118254.0</td>\n",
       "      <td>NaN</td>\n",
       "    </tr>\n",
       "    <tr>\n",
       "      <th>4</th>\n",
       "      <td>Apple</td>\n",
       "      <td>2023.0</td>\n",
       "      <td>383285</td>\n",
       "      <td>96995</td>\n",
       "      <td>352583.0</td>\n",
       "      <td>290437.0</td>\n",
       "      <td>110543.0</td>\n",
       "      <td>NaN</td>\n",
       "    </tr>\n",
       "    <tr>\n",
       "      <th>5</th>\n",
       "      <td>Apple</td>\n",
       "      <td>2022.0</td>\n",
       "      <td>394328</td>\n",
       "      <td>99803</td>\n",
       "      <td>352755.0</td>\n",
       "      <td>302083.0</td>\n",
       "      <td>122151.0</td>\n",
       "      <td>NaN</td>\n",
       "    </tr>\n",
       "    <tr>\n",
       "      <th>6</th>\n",
       "      <td>Tesla</td>\n",
       "      <td>2024.0</td>\n",
       "      <td>97690</td>\n",
       "      <td>7153</td>\n",
       "      <td>122070.0</td>\n",
       "      <td>48390.0</td>\n",
       "      <td>14923.0</td>\n",
       "      <td>NaN</td>\n",
       "    </tr>\n",
       "    <tr>\n",
       "      <th>7</th>\n",
       "      <td>Tesla</td>\n",
       "      <td>2023.0</td>\n",
       "      <td>96773</td>\n",
       "      <td>14974</td>\n",
       "      <td>106618.0</td>\n",
       "      <td>43009.0</td>\n",
       "      <td>13256.0</td>\n",
       "      <td>NaN</td>\n",
       "    </tr>\n",
       "    <tr>\n",
       "      <th>8</th>\n",
       "      <td>Tesla</td>\n",
       "      <td>2022.0</td>\n",
       "      <td>81462</td>\n",
       "      <td>12587</td>\n",
       "      <td>82338.0</td>\n",
       "      <td>36440.0</td>\n",
       "      <td>14724.0</td>\n",
       "      <td>NaN</td>\n",
       "    </tr>\n",
       "  </tbody>\n",
       "</table>\n",
       "</div>"
      ],
      "text/plain": [
       "     Company    Year Total Revenue Net Income  Total Assets  \\\n",
       "0  Microsoft  2024.0        245122      88136      512163.0   \n",
       "1  Microsoft  2023.0        211915      72361      411976.0   \n",
       "2  Microsoft  2022.0        198270      72738      364840.0   \n",
       "3      Apple  2024.0       391,035     93,736      364980.0   \n",
       "4      Apple  2023.0        383285      96995      352583.0   \n",
       "5      Apple  2022.0        394328      99803      352755.0   \n",
       "6      Tesla  2024.0         97690       7153      122070.0   \n",
       "7      Tesla  2023.0         96773      14974      106618.0   \n",
       "8      Tesla  2022.0         81462      12587       82338.0   \n",
       "\n",
       "   Total Liabilities  Cash flow from Operation  Unnamed: 7  \n",
       "0           243686.0                  118548.0         NaN  \n",
       "1           205753.0                   87582.0         NaN  \n",
       "2           198298.0                   89035.0         NaN  \n",
       "3           308030.0                  118254.0         NaN  \n",
       "4           290437.0                  110543.0         NaN  \n",
       "5           302083.0                  122151.0         NaN  \n",
       "6            48390.0                   14923.0         NaN  \n",
       "7            43009.0                   13256.0         NaN  \n",
       "8            36440.0                   14724.0         NaN  "
      ]
     },
     "execution_count": 37,
     "metadata": {},
     "output_type": "execute_result"
    }
   ],
   "source": [
    "df = pd.read_csv(\"C:/Users/Jai Varia/Downloads/financial_data_SEC.xlsx.csv\") #csv fole load kiya\n",
    "df.head(9)"
   ]
  },
  {
   "cell_type": "code",
   "execution_count": 47,
   "id": "fff88598-39f6-4836-8913-422ca67f728b",
   "metadata": {},
   "outputs": [],
   "source": [
    "df['Total Revenue'] = df['Total Revenue'].replace({',':''}, regex=True).astype(float)"
   ]
  },
  {
   "cell_type": "code",
   "execution_count": 48,
   "id": "ef3d70a4-d9d9-4455-9749-07b29581580b",
   "metadata": {},
   "outputs": [],
   "source": [
    "cols = ['Total Revenue','Net Income','Net Income','Total Assets','Total Liabilities','Cash flow from Operation'] #column ko words to integer/float\n",
    "\n",
    "for col in cols:\n",
    "    df[col] = pd.to_numeric(df[col],errors='coerce')"
   ]
  },
  {
   "cell_type": "code",
   "execution_count": 49,
   "id": "9668169e-d014-488f-b5e4-b868ac561c5e",
   "metadata": {},
   "outputs": [],
   "source": [
    "df['Revenue Growth (%)'] = df.groupby('Company')['Total Revenue'].pct_change(fill_method=None) * 100 #formula given by them\n",
    "df['Net Income Growth (%)'] = df.groupby('Company')['Net Income'].pct_change(fill_method=None) * 100"
   ]
  },
  {
   "cell_type": "code",
   "execution_count": 50,
   "id": "c7497e9a-f4b5-407e-b92e-0f81b6fd9fd9",
   "metadata": {},
   "outputs": [],
   "source": [
    "df['Debt Ratio'] = df['Total Liabilities'] / df['Total Assets'] #extra financial ratios\n",
    "df['Cash flow/Revenue'] = df['Cash flow from Operation'] / df['Total Revenue']"
   ]
  },
  {
   "cell_type": "code",
   "execution_count": 51,
   "id": "616e5290-5d82-4c87-9e1b-9f7e136ea0ee",
   "metadata": {},
   "outputs": [
    {
     "data": {
      "text/html": [
       "<div>\n",
       "<style scoped>\n",
       "    .dataframe tbody tr th:only-of-type {\n",
       "        vertical-align: middle;\n",
       "    }\n",
       "\n",
       "    .dataframe tbody tr th {\n",
       "        vertical-align: top;\n",
       "    }\n",
       "\n",
       "    .dataframe thead th {\n",
       "        text-align: right;\n",
       "    }\n",
       "</style>\n",
       "<table border=\"1\" class=\"dataframe\">\n",
       "  <thead>\n",
       "    <tr style=\"text-align: right;\">\n",
       "      <th></th>\n",
       "      <th>Company</th>\n",
       "      <th>Year</th>\n",
       "      <th>Total Revenue</th>\n",
       "      <th>Net Income</th>\n",
       "      <th>Total Assets</th>\n",
       "      <th>Total Liabilities</th>\n",
       "      <th>Cash flow from Operation</th>\n",
       "      <th>Unnamed: 7</th>\n",
       "      <th>Revenue Growth (%)</th>\n",
       "      <th>Net Income Growth (%)</th>\n",
       "      <th>Debt Ratio</th>\n",
       "      <th>Cash flow/Revenue</th>\n",
       "    </tr>\n",
       "  </thead>\n",
       "  <tbody>\n",
       "    <tr>\n",
       "      <th>9</th>\n",
       "      <td>NaN</td>\n",
       "      <td>NaN</td>\n",
       "      <td>NaN</td>\n",
       "      <td>NaN</td>\n",
       "      <td>NaN</td>\n",
       "      <td>NaN</td>\n",
       "      <td>NaN</td>\n",
       "      <td>NaN</td>\n",
       "      <td>NaN</td>\n",
       "      <td>NaN</td>\n",
       "      <td>NaN</td>\n",
       "      <td>NaN</td>\n",
       "    </tr>\n",
       "    <tr>\n",
       "      <th>10</th>\n",
       "      <td>NaN</td>\n",
       "      <td>NaN</td>\n",
       "      <td>NaN</td>\n",
       "      <td>NaN</td>\n",
       "      <td>NaN</td>\n",
       "      <td>NaN</td>\n",
       "      <td>NaN</td>\n",
       "      <td>NaN</td>\n",
       "      <td>NaN</td>\n",
       "      <td>NaN</td>\n",
       "      <td>NaN</td>\n",
       "      <td>NaN</td>\n",
       "    </tr>\n",
       "    <tr>\n",
       "      <th>11</th>\n",
       "      <td>NaN</td>\n",
       "      <td>NaN</td>\n",
       "      <td>NaN</td>\n",
       "      <td>NaN</td>\n",
       "      <td>NaN</td>\n",
       "      <td>NaN</td>\n",
       "      <td>NaN</td>\n",
       "      <td>NaN</td>\n",
       "      <td>NaN</td>\n",
       "      <td>NaN</td>\n",
       "      <td>NaN</td>\n",
       "      <td>NaN</td>\n",
       "    </tr>\n",
       "  </tbody>\n",
       "</table>\n",
       "</div>"
      ],
      "text/plain": [
       "   Company  Year  Total Revenue  Net Income  Total Assets  Total Liabilities  \\\n",
       "9      NaN   NaN            NaN         NaN           NaN                NaN   \n",
       "10     NaN   NaN            NaN         NaN           NaN                NaN   \n",
       "11     NaN   NaN            NaN         NaN           NaN                NaN   \n",
       "\n",
       "    Cash flow from Operation  Unnamed: 7  Revenue Growth (%)  \\\n",
       "9                        NaN         NaN                 NaN   \n",
       "10                       NaN         NaN                 NaN   \n",
       "11                       NaN         NaN                 NaN   \n",
       "\n",
       "    Net Income Growth (%)  Debt Ratio  Cash flow/Revenue  \n",
       "9                     NaN         NaN                NaN  \n",
       "10                    NaN         NaN                NaN  \n",
       "11                    NaN         NaN                NaN  "
      ]
     },
     "execution_count": 51,
     "metadata": {},
     "output_type": "execute_result"
    }
   ],
   "source": [
    "df[df['Company'].isna()]"
   ]
  },
  {
   "cell_type": "code",
   "execution_count": 52,
   "id": "39f9e52a-7914-4064-aae9-a71f399e0080",
   "metadata": {},
   "outputs": [],
   "source": [
    "df = df.dropna(subset=['Company'])"
   ]
  },
  {
   "cell_type": "code",
   "execution_count": 77,
   "id": "e415af14-62a6-4ad1-88dd-baf46ebc867b",
   "metadata": {},
   "outputs": [
    {
     "data": {
      "image/png": "[encoded data removed]",
      "text/plain": [
       "<Figure size 640x480 with 1 Axes>"
      ]
     },
     "metadata": {},
     "output_type": "display_data"
    }
   ],
   "source": [
    "#Converting into chart - Visual Representation\n",
    "\n",
    "df['Year'] = df['Year'].fillna(0).astype(int)\n",
    "\n",
    "colors = {'Microsoft':'green', 'Apple':'Red', 'Tesla':'black'}\n",
    "\n",
    "for company in df['Company'].unique():\n",
    "    data = df[df['Company'] == company]\n",
    "    plt.plot(data['Year'],data['Total Revenue'], marker = 'x', label = company, color = colors[company])\n",
    "\n",
    "plt.title('Total Revenue(2022-2024)')\n",
    "plt.xlabel('Year')\n",
    "plt.ylabel('Total Revenue(in millions)')\n",
    "plt.xticks(df['Year'].unique())\n",
    "plt.legend(loc='center right', bbox_to_anchor=(1.3,0.9))\n",
    "plt.show()"
   ]
  },
  {
   "cell_type": "code",
   "execution_count": null,
   "id": "d2286c17-5028-4057-a9f3-3750f034ecec",
   "metadata": {},
   "outputs": [
    {
     "ename": "NameError",
     "evalue": "name 'Apple' is not defined",
     "output_type": "error",
     "traceback": [
      "\u001b[1;31m---------------------------------------------------------------------------\u001b[0m",
      "\u001b[1;31mNameError\u001b[0m                                 Traceback (most recent call last)",
      "Cell \u001b[1;32mIn[83], line 2\u001b[0m\n\u001b[0;32m      1\u001b[0m df[\u001b[38;5;124m'\u001b[39m\u001b[38;5;124mYear\u001b[39m\u001b[38;5;124m'\u001b[39m] \u001b[38;5;241m=\u001b[39m df[\u001b[38;5;124m'\u001b[39m\u001b[38;5;124mYear\u001b[39m\u001b[38;5;124m'\u001b[39m]\u001b[38;5;241m.\u001b[39mfillna(\u001b[38;5;241m0\u001b[39m)\u001b[38;5;241m.\u001b[39mastype(\u001b[38;5;28mint\u001b[39m)\n\u001b[1;32m----> 2\u001b[0m df\u001b[38;5;241m.\u001b[39mloc[(df[\u001b[38;5;124m'\u001b[39m\u001b[38;5;124mCompany\u001b[39m\u001b[38;5;124m'\u001b[39m] \u001b[38;5;241m==\u001b[39m \u001b[43mApple\u001b[49m)\u001b[38;5;241m&\u001b[39m(df[\u001b[38;5;124m'\u001b[39m\u001b[38;5;124mYear\u001b[39m\u001b[38;5;124m'\u001b[39m] \u001b[38;5;241m==\u001b[39m  \u001b[38;5;241m2024\u001b[39m), \u001b[38;5;124m'\u001b[39m\u001b[38;5;124mNet Income\u001b[39m\u001b[38;5;124m'\u001b[39m] \u001b[38;5;241m=\u001b[39m \u001b[38;5;241m93736\u001b[39m\n\u001b[0;32m      4\u001b[0m \u001b[38;5;28;01mfor\u001b[39;00m company \u001b[38;5;129;01min\u001b[39;00m df[\u001b[38;5;124m'\u001b[39m\u001b[38;5;124mCompany\u001b[39m\u001b[38;5;124m'\u001b[39m]\u001b[38;5;241m.\u001b[39munique():\n\u001b[0;32m      5\u001b[0m     data \u001b[38;5;241m=\u001b[39m df[df[\u001b[38;5;124m'\u001b[39m\u001b[38;5;124mCompany\u001b[39m\u001b[38;5;124m'\u001b[39m]\u001b[38;5;241m==\u001b[39mcompany]\n",
      "\u001b[1;31mNameError\u001b[0m: name 'Apple' is not defined"
     ]
    }
   ],
   "source": [
    "df['Year'] = df['Year'].fillna(0).astype(int)\n",
    "df.loc[(df['Company'] == 'Apple')&(df['Year'] ==  2024), 'Net Income'] = 93736\n",
    "\n",
    "for company in df['Company'].unique():\n",
    "    data = df[df['Company']==company]\n",
    "    plt.plot(data['Year'], data['Net Income'], marker='o', label = company, color = colors[company])\n",
    "\n",
    "plt.title('Net Income(2022-2024)')\n",
    "plt.xlabel('Year')\n",
    "plt.ylabel('Net Income(in millions)')\n",
    "plt.xticks(df['Year'].unique())\n",
    "plt.legend(loc = 'center right', bbox_to_anchor = (1.3, 0.9))\n",
    "plt.show()"
   ]
  },
  {
   "cell_type": "code",
   "execution_count": null,
   "id": "0b6a115a-baf3-4bf6-9dab-6a7bcb469d6d",
   "metadata": {},
   "outputs": [],
   "source": []
  },
  {
   "cell_type": "code",
   "execution_count": null,
   "id": "104e7426-d28e-4f54-a2b7-3a1afcd6e687",
   "metadata": {},
   "outputs": [],
   "source": []
  }
 ],
 "metadata": {
  "kernelspec": {
   "display_name": "Python 3 (ipykernel)",
   "language": "python",
   "name": "python3"
  },
  "language_info": {
   "codemirror_mode": {
    "name": "ipython",
    "version": 3
   },
   "file_extension": ".py",
   "mimetype": "text/x-python",
   "name": "python",
   "nbconvert_exporter": "python",
   "pygments_lexer": "ipython3",
   "version": "3.10.7"
  }
 },
 "nbformat": 4,
 "nbformat_minor": 5
}
