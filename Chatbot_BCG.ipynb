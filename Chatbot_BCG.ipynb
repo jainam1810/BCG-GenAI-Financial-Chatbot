{
 "cells": [
  {
   "cell_type": "code",
   "execution_count": 28,
   "id": "0946bd77-af9c-4459-b6f9-c603bb53bd05",
   "metadata": {},
   "outputs": [],
   "source": [
    "import pandas as pd\n",
    "import re\n",
    "df = pd.read_csv('C:/Users/Jai Varia/Downloads/financial_data_SEC.xlsx.csv')"
   ]
  },
  {
   "cell_type": "code",
   "execution_count": 29,
   "id": "39d9cb78-7450-4eb8-aefa-09ba24ef7ae0",
   "metadata": {},
   "outputs": [
    {
     "data": {
      "text/html": [
       "<div>\n",
       "<style scoped>\n",
       "    .dataframe tbody tr th:only-of-type {\n",
       "        vertical-align: middle;\n",
       "    }\n",
       "\n",
       "    .dataframe tbody tr th {\n",
       "        vertical-align: top;\n",
       "    }\n",
       "\n",
       "    .dataframe thead th {\n",
       "        text-align: right;\n",
       "    }\n",
       "</style>\n",
       "<table border=\"1\" class=\"dataframe\">\n",
       "  <thead>\n",
       "    <tr style=\"text-align: right;\">\n",
       "      <th></th>\n",
       "      <th>Company</th>\n",
       "      <th>Year</th>\n",
       "      <th>Total Revenue</th>\n",
       "      <th>Net Income</th>\n",
       "      <th>Total Assets</th>\n",
       "      <th>Total Liabilities</th>\n",
       "      <th>Cash flow from Operation</th>\n",
       "    </tr>\n",
       "  </thead>\n",
       "  <tbody>\n",
       "    <tr>\n",
       "      <th>0</th>\n",
       "      <td>Microsoft</td>\n",
       "      <td>2024.0</td>\n",
       "      <td>245122</td>\n",
       "      <td>88136</td>\n",
       "      <td>512163.0</td>\n",
       "      <td>243686.0</td>\n",
       "      <td>118548.0</td>\n",
       "    </tr>\n",
       "    <tr>\n",
       "      <th>1</th>\n",
       "      <td>Microsoft</td>\n",
       "      <td>2023.0</td>\n",
       "      <td>211915</td>\n",
       "      <td>72361</td>\n",
       "      <td>411976.0</td>\n",
       "      <td>205753.0</td>\n",
       "      <td>87582.0</td>\n",
       "    </tr>\n",
       "    <tr>\n",
       "      <th>2</th>\n",
       "      <td>Microsoft</td>\n",
       "      <td>2022.0</td>\n",
       "      <td>198270</td>\n",
       "      <td>72738</td>\n",
       "      <td>364840.0</td>\n",
       "      <td>198298.0</td>\n",
       "      <td>89035.0</td>\n",
       "    </tr>\n",
       "    <tr>\n",
       "      <th>3</th>\n",
       "      <td>Apple</td>\n",
       "      <td>2024.0</td>\n",
       "      <td>391,035</td>\n",
       "      <td>93,736</td>\n",
       "      <td>364980.0</td>\n",
       "      <td>308030.0</td>\n",
       "      <td>118254.0</td>\n",
       "    </tr>\n",
       "    <tr>\n",
       "      <th>4</th>\n",
       "      <td>Apple</td>\n",
       "      <td>2023.0</td>\n",
       "      <td>383285</td>\n",
       "      <td>96995</td>\n",
       "      <td>352583.0</td>\n",
       "      <td>290437.0</td>\n",
       "      <td>110543.0</td>\n",
       "    </tr>\n",
       "    <tr>\n",
       "      <th>5</th>\n",
       "      <td>Apple</td>\n",
       "      <td>2022.0</td>\n",
       "      <td>394328</td>\n",
       "      <td>99803</td>\n",
       "      <td>352755.0</td>\n",
       "      <td>302083.0</td>\n",
       "      <td>122151.0</td>\n",
       "    </tr>\n",
       "    <tr>\n",
       "      <th>6</th>\n",
       "      <td>Tesla</td>\n",
       "      <td>2024.0</td>\n",
       "      <td>97690</td>\n",
       "      <td>7153</td>\n",
       "      <td>122070.0</td>\n",
       "      <td>48390.0</td>\n",
       "      <td>14923.0</td>\n",
       "    </tr>\n",
       "    <tr>\n",
       "      <th>7</th>\n",
       "      <td>Tesla</td>\n",
       "      <td>2023.0</td>\n",
       "      <td>96773</td>\n",
       "      <td>14974</td>\n",
       "      <td>106618.0</td>\n",
       "      <td>43009.0</td>\n",
       "      <td>13256.0</td>\n",
       "    </tr>\n",
       "    <tr>\n",
       "      <th>8</th>\n",
       "      <td>Tesla</td>\n",
       "      <td>2022.0</td>\n",
       "      <td>81462</td>\n",
       "      <td>12587</td>\n",
       "      <td>82338.0</td>\n",
       "      <td>36440.0</td>\n",
       "      <td>14724.0</td>\n",
       "    </tr>\n",
       "  </tbody>\n",
       "</table>\n",
       "</div>"
      ],
      "text/plain": [
       "     Company    Year Total Revenue Net Income  Total Assets  \\\n",
       "0  Microsoft  2024.0        245122      88136      512163.0   \n",
       "1  Microsoft  2023.0        211915      72361      411976.0   \n",
       "2  Microsoft  2022.0        198270      72738      364840.0   \n",
       "3      Apple  2024.0       391,035     93,736      364980.0   \n",
       "4      Apple  2023.0        383285      96995      352583.0   \n",
       "5      Apple  2022.0        394328      99803      352755.0   \n",
       "6      Tesla  2024.0         97690       7153      122070.0   \n",
       "7      Tesla  2023.0         96773      14974      106618.0   \n",
       "8      Tesla  2022.0         81462      12587       82338.0   \n",
       "\n",
       "   Total Liabilities  Cash flow from Operation  \n",
       "0           243686.0                  118548.0  \n",
       "1           205753.0                   87582.0  \n",
       "2           198298.0                   89035.0  \n",
       "3           308030.0                  118254.0  \n",
       "4           290437.0                  110543.0  \n",
       "5           302083.0                  122151.0  \n",
       "6            48390.0                   14923.0  \n",
       "7            43009.0                   13256.0  \n",
       "8            36440.0                   14724.0  "
      ]
     },
     "execution_count": 29,
     "metadata": {},
     "output_type": "execute_result"
    }
   ],
   "source": [
    "df.iloc[:9, :7]"
   ]
  },
  {
   "cell_type": "code",
   "execution_count": 30,
   "id": "a3309bef-14a5-40d7-9bab-ecaaaa6f6df0",
   "metadata": {},
   "outputs": [],
   "source": [
    "numeric_cols = ['Total Revenue', 'Net Income', 'Total Assets', 'Total Liabilities', 'Cash flow from Operation']\n",
    "\n",
    "for col in numeric_cols:\n",
    "    df[col] = df[col].astype(str).str.replace(',','')\n",
    "    df[col] = pd.to_numeric(df[col], errors='coerce')"
   ]
  },
  {
   "cell_type": "code",
   "execution_count": 31,
   "id": "28015ede-9415-4f57-8b16-3186a2006679",
   "metadata": {},
   "outputs": [],
   "source": [
    "df[numeric_cols] = df[numeric_cols].fillna(0)"
   ]
  },
  {
   "cell_type": "code",
   "execution_count": 40,
   "id": "497d8748-2861-47f9-9ffe-4e8ec728388b",
   "metadata": {},
   "outputs": [],
   "source": [
    "def Total_Revenue(company=None, year=None):\n",
    "    if company:\n",
    "        if year:\n",
    "            revenue = df[(df[\"Company\"].str.lower() == company.lower()) & (df['Year'] == year)]['Total Revenue'].sum()\n",
    "            if revenue == 0:\n",
    "                return f\"The financial data for {company.title()} in {year} is not available\"\n",
    "            return f\"The Total Revenue of {company.title()} in {year} is {revenue} USD\"\n",
    "        else:\n",
    "            revenue = df[df[\"Company\"].str.lower() == company.lower()]['Total Revenue'].sum()\n",
    "            return f\"The Total Revenue of {company.title()} is {revenue} USD\"\n",
    "    else:\n",
    "        if year:\n",
    "            revenue = df[df[\"Year\"] == year]['Total Revenue'].sum()\n",
    "            return f\"The Total Revenue of all companies in {year} is {revenue} USD\"\n",
    "        else:\n",
    "            revenue = df[\"Total Revenue\"].sum()\n",
    "            return f\"The Total Revenue of all companies is {revenue} USD\"\n"
   ]
  },
  {
   "cell_type": "code",
   "execution_count": 52,
   "id": "f1a3366c-7e25-4b86-827a-c51af1c20c31",
   "metadata": {},
   "outputs": [],
   "source": [
    "def Total_Assets(company=None, year=None):\n",
    "    if company:\n",
    "        if year:\n",
    "            assets = df[(df[\"Company\"].str.lower() == company.lower()) & (df['Year'] == year)]['Total Assets'].sum()\n",
    "            if assets == 0:\n",
    "                return f\"The financial data for {company.title()} in {year} is not available\"\n",
    "            return f'The Total Assets of {company.title()} in {year} is {assets} USD'\n",
    "        else:\n",
    "            assets = df[df['Company'].str.lower() == company.lower()]['Total Assets'].sum()\n",
    "            return f'The Total Assets of {company.title()} is {assets} USD'\n",
    "    else:\n",
    "        if year:\n",
    "            assets = df[df[\"Year\"] == year]['Total Assets'].sum()\n",
    "            return f'The Total Assets of all companies in {year} is {assets} USD'\n",
    "        else:\n",
    "            assets = df['Total Assets'].sum()\n",
    "            return f'The Total Assets of all companies is {assets} USD'"
   ]
  },
  {
   "cell_type": "code",
   "execution_count": 53,
   "id": "32e84e29-6619-4319-ba59-10cccd9db97a",
   "metadata": {},
   "outputs": [],
   "source": [
    "def net_income(company=None, year=None):\n",
    "    if company:\n",
    "        company = company.lower()\n",
    "        if year:\n",
    "            income = df[(df[\"Company\"].str.lower() == company) & (df[\"Year\"] == year)]['Net Income'].sum()\n",
    "            if income == 0:\n",
    "                return f\"The financial data for {company.title()} in {year} is not available\"\n",
    "            return f\"The net income of {company.title()} in {year} is {income} USD\"\n",
    "        else:\n",
    "            income = df[df[\"Company\"].str.lower() == company]['Net Income'].sum()\n",
    "            return f\"The total net income of {company.title()} is {income} USD\"\n",
    "    else:\n",
    "        if year:\n",
    "            income = df[df[\"Year\"] == year]['Net Income'].sum()\n",
    "            return f\"The net income of all companies in {year} is {income} USD\"\n",
    "        else:\n",
    "            income = df[\"Net Income\"].sum()\n",
    "            return f\"The total net income of all companies is {income} USD\""
   ]
  },
  {
   "cell_type": "code",
   "execution_count": 54,
   "id": "eaff714f-befd-4940-acce-0528011f0709",
   "metadata": {},
   "outputs": [],
   "source": [
    "def net_income_change(company=None, start_year=None, end_year=None):\n",
    "    years = sorted(df['Year'].unique())\n",
    "    if start_year is None or end_year is None:\n",
    "        start_year = years[-2]\n",
    "        end_year = years[-1]\n",
    "\n",
    "    if company:\n",
    "        subset = df[(df['Company'].str.lower() == company) & (df['Year'].isin([start_year, end_year]))]\n",
    "    else:\n",
    "        subset = df[df['Year'].isin([start_year, end_year])]\n",
    "\n",
    "    if subset['Year'].nunique() < 2:\n",
    "        if company:\n",
    "            return f\"The financial data for {company.title()} is not available for the period {start_year}-{end_year}\"\n",
    "        else:\n",
    "            return f\"The financial data for all companies is not available for the period {start_year}-{end_year}\"\n",
    "    \n",
    "    income_start = subset[subset['Year'] == start_year]['Net Income'].sum()\n",
    "    income_end = subset[subset['Year'] == end_year]['Net Income'].sum()\n",
    "    change = income_end - income_start\n",
    "    trend = \"increased\" if change > 0 else \"decreased\"\n",
    "    \n",
    "    if company:\n",
    "        return f\"The net income of {company.title()} {trend} by {abs(change)} from {int(start_year)} to {int(end_year)}.\"\n",
    "    else:\n",
    "        return f\"The net income of all the companies {trend} by {abs(change)} from {int(start_year)} to {int(end_year)}.\"\n"
   ]
  },
  {
   "cell_type": "code",
   "execution_count": 57,
   "id": "9e49bda1-fa57-4a82-8c94-dfd423eec8ea",
   "metadata": {},
   "outputs": [],
   "source": [
    "def company_profit(company, year=None):\n",
    "    company = company.lower()  \n",
    "    if year is None:\n",
    "        year = df['Year'].max()  \n",
    "\n",
    "    subset = df[(df['Company'].str.lower() == company) & (df['Year'] == year)]\n",
    "    \n",
    "    if subset.empty:\n",
    "        return f\"The financial data for {company.title()} in {year} is not available\"\n",
    "    \n",
    "    profit = subset['Net Income'].sum()\n",
    "    \n",
    "    if profit == 0:\n",
    "        return f\"The financial data for {company.title()} in {year} is not available\"\n",
    "    \n",
    "    return f\"The profit of {company.title()} in {year} was {profit} USD\"\n"
   ]
  },
  {
   "cell_type": "code",
   "execution_count": 58,
   "id": "e00acbdf-c0e1-488c-9e98-0bc17c6dae72",
   "metadata": {},
   "outputs": [],
   "source": [
    "def compare_Total_Revenue(company1, company2):\n",
    "    try:\n",
    "        rev1 = df[df['Company'].str.lower()==company1.lower()]['Total Revenue'].values[0]\n",
    "        rev2 = df[df['Company'].str.lower()==company2.lower()]['Total Revenue'].values[0]\n",
    "        diff = abs(rev1 - rev2)\n",
    "        return f\"{company1.title()}'s revenue is {rev1} USD, {company2.title()}'s revenue is {rev2}USD . The difference is {diff} USD\"\n",
    "    except:\n",
    "        return f\"Couldnt compare, please check Company names\""
   ]
  },
  {
   "cell_type": "markdown",
   "id": "6f7656de-748d-434e-b8e3-12bd7ab55741",
   "metadata": {},
   "source": [
    "## Chatbot building"
   ]
  },
  {
   "cell_type": "code",
   "execution_count": 61,
   "id": "bc7936f3-3717-47d4-912d-eec26249a4c9",
   "metadata": {},
   "outputs": [],
   "source": [
    "import re\n",
    "\n",
    "def financial_chatbot():\n",
    "    print(\"hello I am professional chatbot\")\n",
    "    print(\"You can ask question based on Microsoft, Tesla and apple\")\n",
    "    print(\"You can ask financial data related questions about the companies\")\n",
    "    print(\"Type 'EXIT' to quit.\\n\")\n",
    "\n",
    "    last_company = None\n",
    "\n",
    "    while True:\n",
    "        user_input = input(\"You:\").casefold().strip()\n",
    "\n",
    "        # Company\n",
    "        company = None\n",
    "        if \"all company\" in user_input or \"all companies\" in user_input:\n",
    "            company = None\n",
    "        else:\n",
    "            companies_in_input = [c for c in [\"microsoft\", \"apple\", \"tesla\"] if c in user_input]\n",
    "            if len(companies_in_input) == 2:\n",
    "                print(\"Chatbot:\", compare_Total_Revenue(companies_in_input[0], companies_in_input[1]))\n",
    "                continue \n",
    "            elif len(companies_in_input) == 1:\n",
    "                company = companies_in_input[0]\n",
    "                last_company = company\n",
    "            elif not companies_in_input and last_company:\n",
    "                company = last_company\n",
    "\n",
    "\n",
    "        # Extract year for revenue/asset queries\n",
    "        year_in_input = re.findall(r'\\b(2022|2023|2024)\\b', user_input)\n",
    "        if len(year_in_input) >= 1:\n",
    "            year = int(year_in_input[0])  # take the first year mentioned\n",
    "        else:\n",
    "            year = None  # or you can default to 2024\n",
    "\n",
    "\n",
    "\n",
    "        # intention\n",
    "        if user_input == \"exit\":\n",
    "            print(\"chatbot: Goodbye!\")\n",
    "            break\n",
    "        elif \"revenue\" in user_input:\n",
    "            print(\"Chatbot:\", Total_Revenue(company=company, year=year))\n",
    "        elif \"assets\" in user_input:\n",
    "            print(\"Chatbot:\", Total_Assets(company=company, year=year))\n",
    "        elif \"net income\" in user_input or \"profit\" in user_input:\n",
    "            if \"how\" in user_input or \"change\" in user_input or \"trend\" in user_input:\n",
    "                print(\"Chatbot:\", net_income_change(company=company, start_year=start_year, end_year=end_year))\n",
    "            elif company:\n",
    "                print(\"Chatbot:\", net_income(company=company, year=year))\n",
    "            else:\n",
    "                print(\"Chatbot: Please specify a company name.\")\n",
    "        elif \"compare\" in user_input and company and last_company and company != last_company:\n",
    "            print(\"Chatbot:\", compare_Total_Revenue(company, last_company))\n",
    "        else:\n",
    "            print(\"Chatbot: Sorry! I didn't understand your question. Kindly ask about company revenue, net income, or comparisons.\")"
   ]
  },
  {
   "cell_type": "code",
   "execution_count": null,
   "id": "5703295b-c760-4106-8b93-7611c6745f17",
   "metadata": {},
   "outputs": [
    {
     "name": "stdout",
     "output_type": "stream",
     "text": [
      "hello I am professional chatbot\n",
      "You can ask question based on Microsoft, Tesla and apple\n",
      "You can ask financial data related questions about the companies\n",
      "Type 'EXIT' to quit.\n",
      "\n"
     ]
    },
    {
     "name": "stdin",
     "output_type": "stream",
     "text": [
      "You: net income of apple in 2024\n"
     ]
    },
    {
     "name": "stdout",
     "output_type": "stream",
     "text": [
      "Chatbot: The net income of Apple in 2024 is 93736.0 USD\n"
     ]
    },
    {
     "name": "stdin",
     "output_type": "stream",
     "text": [
      "You: profit of apple in 2022\n"
     ]
    },
    {
     "name": "stdout",
     "output_type": "stream",
     "text": [
      "Chatbot: The net income of Apple in 2022 is 99803.0 USD\n"
     ]
    },
    {
     "name": "stdin",
     "output_type": "stream",
     "text": [
      "You: total profit of apple in 2022\n"
     ]
    },
    {
     "name": "stdout",
     "output_type": "stream",
     "text": [
      "Chatbot: The net income of Apple in 2022 is 99803.0 USD\n"
     ]
    },
    {
     "name": "stdin",
     "output_type": "stream",
     "text": [
      "You: total net income of apple in 2022\n"
     ]
    },
    {
     "name": "stdout",
     "output_type": "stream",
     "text": [
      "Chatbot: The net income of Apple in 2022 is 99803.0 USD\n"
     ]
    }
   ],
   "source": [
    "financial_chatbot()"
   ]
  },
  {
   "cell_type": "code",
   "execution_count": null,
   "id": "fdd7e24a-e54f-49e9-a566-5fec641d4765",
   "metadata": {},
   "outputs": [],
   "source": []
  }
 ],
 "metadata": {
  "kernelspec": {
   "display_name": "Python 3 (ipykernel)",
   "language": "python",
   "name": "python3"
  },
  "language_info": {
   "codemirror_mode": {
    "name": "ipython",
    "version": 3
   },
   "file_extension": ".py",
   "mimetype": "text/x-python",
   "name": "python",
   "nbconvert_exporter": "python",
   "pygments_lexer": "ipython3",
   "version": "3.10.7"
  }
 },
 "nbformat": 4,
 "nbformat_minor": 5
}
